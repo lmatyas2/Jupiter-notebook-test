{
 "cells": [
  {
   "cell_type": "markdown",
   "id": "e75f04d5",
   "metadata": {},
   "source": [
    "# Data Science Tools and Ecosystem"
   ]
  },
  {
   "cell_type": "markdown",
   "id": "940c95b0",
   "metadata": {},
   "source": [
    "In this notebook, Data Science Tools and Ecosystem are summarized."
   ]
  },
  {
   "cell_type": "markdown",
   "id": "b868f971",
   "metadata": {},
   "source": [
    "**Objectives:**\n",
    "- To learn about tools in DS\n",
    "- To learn about languages in DS\n",
    "- To understand the process to create projects on GitHub"
   ]
  },
  {
   "cell_type": "markdown",
   "id": "466a6ac7",
   "metadata": {},
   "source": [
    "Some of the popular languages that Data Scientists use are:\n",
    "1. Python\n",
    "2. R\n",
    "3. Ruby"
   ]
  },
  {
   "cell_type": "markdown",
   "id": "e74df035",
   "metadata": {},
   "source": [
    "Some of the commonly used libraries used by Data Scientists include:\n",
    "1. PyTorch\n",
    "2. Keras\n",
    "3. Scikit-learn"
   ]
  },
  {
   "cell_type": "markdown",
   "id": "00b96dd9",
   "metadata": {},
   "source": [
    "|Tools|\n",
    "|-----|\n",
    "|R Studio|\n",
    "|GitHub|\n",
    "|Jupiter Notebooks|\n"
   ]
  },
  {
   "cell_type": "markdown",
   "id": "4518482f",
   "metadata": {},
   "source": [
    "### Below are a few examples of evaluating arithmetic expressions in Python"
   ]
  },
  {
   "cell_type": "code",
   "execution_count": 1,
   "id": "6f2b02de",
   "metadata": {},
   "outputs": [
    {
     "data": {
      "text/plain": [
       "17"
      ]
     },
     "execution_count": 1,
     "metadata": {},
     "output_type": "execute_result"
    }
   ],
   "source": [
    "#This a simple arithmetic expression to mutiply then add integers\n",
    "(3*4)+5"
   ]
  },
  {
   "cell_type": "code",
   "execution_count": 2,
   "id": "4fc170ed",
   "metadata": {},
   "outputs": [
    {
     "data": {
      "text/plain": [
       "3.3333333333333335"
      ]
     },
     "execution_count": 2,
     "metadata": {},
     "output_type": "execute_result"
    }
   ],
   "source": [
    "#This will convert 200 minutes to hours by diving by 60\n",
    "200/60"
   ]
  },
  {
   "cell_type": "markdown",
   "id": "efb960d0",
   "metadata": {},
   "source": [
    "## Author\n",
    "Matyas Liptovszky"
   ]
  },
  {
   "cell_type": "code",
   "execution_count": null,
   "id": "2dfc6673",
   "metadata": {},
   "outputs": [],
   "source": []
  }
 ],
 "metadata": {
  "kernelspec": {
   "display_name": "Python 3 (ipykernel)",
   "language": "python",
   "name": "python3"
  },
  "language_info": {
   "codemirror_mode": {
    "name": "ipython",
    "version": 3
   },
   "file_extension": ".py",
   "mimetype": "text/x-python",
   "name": "python",
   "nbconvert_exporter": "python",
   "pygments_lexer": "ipython3",
   "version": "3.9.13"
  }
 },
 "nbformat": 4,
 "nbformat_minor": 5
}
